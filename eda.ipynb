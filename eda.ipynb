{
 "cells": [
  {
   "cell_type": "code",
   "execution_count": 1,
   "id": "6618a127",
   "metadata": {},
   "outputs": [],
   "source": [
    "import pandas as pd\n",
    "import numpy as np"
   ]
  },
  {
   "cell_type": "code",
   "execution_count": 2,
   "id": "fa78bd61",
   "metadata": {},
   "outputs": [
    {
     "data": {
      "text/plain": [
       "Index(['id', 'url', 'region', 'region_url', 'price', 'year', 'manufacturer',\n",
       "       'model', 'condition', 'cylinders', 'fuel', 'odometer', 'title_status',\n",
       "       'transmission', 'VIN', 'drive', 'size', 'type', 'paint_color',\n",
       "       'image_url', 'description', 'county', 'state', 'lat', 'long',\n",
       "       'posting_date'],\n",
       "      dtype='object')"
      ]
     },
     "execution_count": 2,
     "metadata": {},
     "output_type": "execute_result"
    }
   ],
   "source": [
    "df_full = pd.read_csv('data/vehicles.csv')\n",
    "df_full.columns"
   ]
  },
  {
   "cell_type": "code",
   "execution_count": 38,
   "id": "34a39067",
   "metadata": {},
   "outputs": [
    {
     "data": {
      "text/html": [
       "<div>\n",
       "<style scoped>\n",
       "    .dataframe tbody tr th:only-of-type {\n",
       "        vertical-align: middle;\n",
       "    }\n",
       "\n",
       "    .dataframe tbody tr th {\n",
       "        vertical-align: top;\n",
       "    }\n",
       "\n",
       "    .dataframe thead th {\n",
       "        text-align: right;\n",
       "    }\n",
       "</style>\n",
       "<table border=\"1\" class=\"dataframe\">\n",
       "  <thead>\n",
       "    <tr style=\"text-align: right;\">\n",
       "      <th></th>\n",
       "      <th>year</th>\n",
       "      <th>name</th>\n",
       "      <th>fuel</th>\n",
       "      <th>odometer</th>\n",
       "      <th>transmission</th>\n",
       "      <th>drive</th>\n",
       "      <th>price</th>\n",
       "    </tr>\n",
       "  </thead>\n",
       "  <tbody>\n",
       "    <tr>\n",
       "      <th>0</th>\n",
       "      <td>2013.0</td>\n",
       "      <td>ford f-150 xlt</td>\n",
       "      <td>gas</td>\n",
       "      <td>128000.0</td>\n",
       "      <td>automatic</td>\n",
       "      <td>rwd</td>\n",
       "      <td>15000</td>\n",
       "    </tr>\n",
       "    <tr>\n",
       "      <th>1</th>\n",
       "      <td>2012.0</td>\n",
       "      <td>gmc sierra 2500 hd extended cab</td>\n",
       "      <td>gas</td>\n",
       "      <td>68696.0</td>\n",
       "      <td>other</td>\n",
       "      <td>4wd</td>\n",
       "      <td>27990</td>\n",
       "    </tr>\n",
       "    <tr>\n",
       "      <th>2</th>\n",
       "      <td>2016.0</td>\n",
       "      <td>chevrolet silverado 1500 double</td>\n",
       "      <td>gas</td>\n",
       "      <td>29499.0</td>\n",
       "      <td>other</td>\n",
       "      <td>4wd</td>\n",
       "      <td>34590</td>\n",
       "    </tr>\n",
       "    <tr>\n",
       "      <th>3</th>\n",
       "      <td>2019.0</td>\n",
       "      <td>toyota tacoma</td>\n",
       "      <td>gas</td>\n",
       "      <td>43000.0</td>\n",
       "      <td>automatic</td>\n",
       "      <td>4wd</td>\n",
       "      <td>35000</td>\n",
       "    </tr>\n",
       "    <tr>\n",
       "      <th>4</th>\n",
       "      <td>2016.0</td>\n",
       "      <td>chevrolet colorado extended cab</td>\n",
       "      <td>gas</td>\n",
       "      <td>17302.0</td>\n",
       "      <td>other</td>\n",
       "      <td>4wd</td>\n",
       "      <td>29990</td>\n",
       "    </tr>\n",
       "  </tbody>\n",
       "</table>\n",
       "</div>"
      ],
      "text/plain": [
       "     year                             name fuel  odometer transmission drive  \\\n",
       "0  2013.0                   ford f-150 xlt  gas  128000.0    automatic   rwd   \n",
       "1  2012.0  gmc sierra 2500 hd extended cab  gas   68696.0        other   4wd   \n",
       "2  2016.0  chevrolet silverado 1500 double  gas   29499.0        other   4wd   \n",
       "3  2019.0                    toyota tacoma  gas   43000.0    automatic   4wd   \n",
       "4  2016.0  chevrolet colorado extended cab  gas   17302.0        other   4wd   \n",
       "\n",
       "   price  \n",
       "0  15000  \n",
       "1  27990  \n",
       "2  34590  \n",
       "3  35000  \n",
       "4  29990  "
      ]
     },
     "execution_count": 38,
     "metadata": {},
     "output_type": "execute_result"
    }
   ],
   "source": [
    "df_full['name'] = df_full['manufacturer'].str.cat(df_full['model'], sep=' ')\n",
    "\n",
    "df = df_full[[\n",
    "    'year',\n",
    "    'name',\n",
    "    'fuel',\n",
    "    'odometer',\n",
    "    'transmission',\n",
    "    'drive',\n",
    "    'price']]\n",
    "\n",
    "df = df.dropna()\n",
    "df = df.reset_index(drop=True)\n",
    "\n",
    "df.head()"
   ]
  },
  {
   "cell_type": "code",
   "execution_count": 39,
   "id": "3f7b9b34",
   "metadata": {},
   "outputs": [],
   "source": [
    "df = df.astype({\n",
    "    'year': 'int',\n",
    "    'name': 'string',\n",
    "    'fuel': 'string',\n",
    "    'odometer': 'float',\n",
    "    'transmission': 'string',\n",
    "    'drive': 'string',\n",
    "    'price': 'float'\n",
    "})"
   ]
  },
  {
   "cell_type": "code",
   "execution_count": 40,
   "id": "8a5f0cd8",
   "metadata": {},
   "outputs": [
    {
     "name": "stdout",
     "output_type": "stream",
     "text": [
      "year\n",
      "mean = 2011.667633646582\n",
      "\n",
      "name\n",
      "<StringArray>\n",
      "[                 'ford f-150 xlt', 'gmc sierra 2500 hd extended cab',\n",
      " 'chevrolet silverado 1500 double',                   'toyota tacoma',\n",
      " 'chevrolet colorado extended cab',  'chevrolet corvette grand sport',\n",
      "                   'jeep cherokee',   'jeep wrangler unlimited sport',\n",
      " 'chevrolet colorado crew cab z71',    'chevrolet camaro ss coupe 2d',\n",
      " ...\n",
      "             'hyundai tucson, gls',       'ford f250 crew cab diesel',\n",
      "            'ford taurus wagon lx',                  'ford f150, xlt',\n",
      "             'ford f150, platinum',            'chevrolet cruze, 2lt',\n",
      "              'chevrolet 1500 z71',               'jeep cj 3a willys',\n",
      "             'mazda rx& gls sport',              'jeep gand wagoneer']\n",
      "Length: 19009, dtype: string\n",
      "\n",
      "fuel\n",
      "<StringArray>\n",
      "['gas', 'other', 'diesel', 'hybrid', 'electric']\n",
      "Length: 5, dtype: string\n",
      "\n",
      "odometer\n",
      "mean = 96303.35473166307\n",
      "\n",
      "transmission\n",
      "<StringArray>\n",
      "['automatic', 'other', 'manual']\n",
      "Length: 3, dtype: string\n",
      "\n",
      "drive\n",
      "<StringArray>\n",
      "['rwd', '4wd', 'fwd']\n",
      "Length: 3, dtype: string\n",
      "\n",
      "price\n",
      "mean = 50350.4911586123\n",
      "\n"
     ]
    }
   ],
   "source": [
    "for col in df.columns:\n",
    "    print(col)\n",
    "\n",
    "    if df[col].dtype == 'string':\n",
    "        print(df[col].unique(), end='\\n\\n')\n",
    "    else:\n",
    "        print(f'mean = {df[col].mean()}', end='\\n\\n')\n"
   ]
  }
 ],
 "metadata": {
  "kernelspec": {
   "display_name": "venv",
   "language": "python",
   "name": "python3"
  },
  "language_info": {
   "codemirror_mode": {
    "name": "ipython",
    "version": 3
   },
   "file_extension": ".py",
   "mimetype": "text/x-python",
   "name": "python",
   "nbconvert_exporter": "python",
   "pygments_lexer": "ipython3",
   "version": "3.12.3"
  }
 },
 "nbformat": 4,
 "nbformat_minor": 5
}
