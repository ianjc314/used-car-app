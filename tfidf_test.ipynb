{
 "cells": [
  {
   "cell_type": "code",
   "execution_count": 1,
   "id": "6618a127",
   "metadata": {},
   "outputs": [],
   "source": [
    "import pandas as pd\n",
    "import numpy as np"
   ]
  },
  {
   "cell_type": "code",
   "execution_count": 2,
   "id": "fa78bd61",
   "metadata": {},
   "outputs": [
    {
     "data": {
      "text/plain": [
       "Index(['id', 'url', 'region', 'region_url', 'price', 'year', 'manufacturer',\n",
       "       'model', 'condition', 'cylinders', 'fuel', 'odometer', 'title_status',\n",
       "       'transmission', 'VIN', 'drive', 'size', 'type', 'paint_color',\n",
       "       'image_url', 'description', 'county', 'state', 'lat', 'long',\n",
       "       'posting_date'],\n",
       "      dtype='object')"
      ]
     },
     "execution_count": 2,
     "metadata": {},
     "output_type": "execute_result"
    }
   ],
   "source": [
    "df_full = pd.read_csv('data/vehicles.csv')\n",
    "df_full.columns"
   ]
  },
  {
   "cell_type": "code",
   "execution_count": 3,
   "id": "34a39067",
   "metadata": {},
   "outputs": [
    {
     "data": {
      "text/html": [
       "<div>\n",
       "<style scoped>\n",
       "    .dataframe tbody tr th:only-of-type {\n",
       "        vertical-align: middle;\n",
       "    }\n",
       "\n",
       "    .dataframe tbody tr th {\n",
       "        vertical-align: top;\n",
       "    }\n",
       "\n",
       "    .dataframe thead th {\n",
       "        text-align: right;\n",
       "    }\n",
       "</style>\n",
       "<table border=\"1\" class=\"dataframe\">\n",
       "  <thead>\n",
       "    <tr style=\"text-align: right;\">\n",
       "      <th></th>\n",
       "      <th>name</th>\n",
       "      <th>price</th>\n",
       "    </tr>\n",
       "  </thead>\n",
       "  <tbody>\n",
       "    <tr>\n",
       "      <th>0</th>\n",
       "      <td>gmc sierra 1500 crew cab slt</td>\n",
       "      <td>33590</td>\n",
       "    </tr>\n",
       "    <tr>\n",
       "      <th>1</th>\n",
       "      <td>chevrolet silverado 1500</td>\n",
       "      <td>22590</td>\n",
       "    </tr>\n",
       "    <tr>\n",
       "      <th>2</th>\n",
       "      <td>chevrolet silverado 1500 crew</td>\n",
       "      <td>39590</td>\n",
       "    </tr>\n",
       "    <tr>\n",
       "      <th>3</th>\n",
       "      <td>toyota tundra double cab sr</td>\n",
       "      <td>30990</td>\n",
       "    </tr>\n",
       "    <tr>\n",
       "      <th>4</th>\n",
       "      <td>ford f-150 xlt</td>\n",
       "      <td>15000</td>\n",
       "    </tr>\n",
       "  </tbody>\n",
       "</table>\n",
       "</div>"
      ],
      "text/plain": [
       "                            name  price\n",
       "0   gmc sierra 1500 crew cab slt  33590\n",
       "1       chevrolet silverado 1500  22590\n",
       "2  chevrolet silverado 1500 crew  39590\n",
       "3    toyota tundra double cab sr  30990\n",
       "4                 ford f-150 xlt  15000"
      ]
     },
     "execution_count": 3,
     "metadata": {},
     "output_type": "execute_result"
    }
   ],
   "source": [
    "df_full['name'] = df_full['manufacturer'].str.cat(df_full['model'], sep=' ')\n",
    "\n",
    "df = df_full[[\n",
    "    'name',\n",
    "    'price']]\n",
    "\n",
    "df = df.dropna()\n",
    "df = df.reset_index(drop=True)\n",
    "\n",
    "df.head()"
   ]
  },
  {
   "cell_type": "code",
   "execution_count": 13,
   "id": "d0cd021f",
   "metadata": {},
   "outputs": [
    {
     "name": "stdout",
     "output_type": "stream",
     "text": [
      "<Compressed Sparse Row sparse matrix of dtype 'float64'\n",
      "\twith 13 stored elements and shape (3, 8)>\n",
      "  Coords\tValues\n",
      "  (0, 4)\t0.450504072643198\n",
      "  (0, 5)\t0.450504072643198\n",
      "  (0, 0)\t0.2660749625405929\n",
      "  (0, 3)\t0.3426199591918006\n",
      "  (0, 1)\t0.450504072643198\n",
      "  (0, 7)\t0.450504072643198\n",
      "  (1, 0)\t0.48133416873660545\n",
      "  (1, 2)\t0.6198053799406072\n",
      "  (1, 6)\t0.6198053799406072\n",
      "  (2, 0)\t0.40912286076708654\n",
      "  (2, 3)\t0.5268201732399633\n",
      "  (2, 2)\t0.5268201732399633\n",
      "  (2, 6)\t0.5268201732399633\n"
     ]
    }
   ],
   "source": [
    "from sklearn.feature_extraction.text import TfidfVectorizer\n",
    "from sklearn.metrics.pairwise import cosine_similarity\n",
    "\n",
    "documents = [\n",
    "    'gmc sierra 1500 crew cab slt',\n",
    "    'chevrolet silverado 1500',\n",
    "    'chevrolet silverado 1500 crew'\n",
    "]\n",
    "\n",
    "vectorizer = TfidfVectorizer()\n",
    "tfidf_matrix = vectorizer.fit_transform(documents)\n",
    "print(tfidf_matrix)"
   ]
  },
  {
   "cell_type": "code",
   "execution_count": 14,
   "id": "e3de8dda",
   "metadata": {},
   "outputs": [
    {
     "name": "stdout",
     "output_type": "stream",
     "text": [
      "[[0.12807097]]\n",
      "[[0.28935646]]\n",
      "[[0.84997677]]\n"
     ]
    }
   ],
   "source": [
    "print(cosine_similarity(tfidf_matrix[0], tfidf_matrix[1]))\n",
    "print(cosine_similarity(tfidf_matrix[0], tfidf_matrix[2]))\n",
    "print(cosine_similarity(tfidf_matrix[1], tfidf_matrix[2]))"
   ]
  }
 ],
 "metadata": {
  "kernelspec": {
   "display_name": "venv",
   "language": "python",
   "name": "python3"
  },
  "language_info": {
   "codemirror_mode": {
    "name": "ipython",
    "version": 3
   },
   "file_extension": ".py",
   "mimetype": "text/x-python",
   "name": "python",
   "nbconvert_exporter": "python",
   "pygments_lexer": "ipython3",
   "version": "3.12.3"
  }
 },
 "nbformat": 4,
 "nbformat_minor": 5
}
